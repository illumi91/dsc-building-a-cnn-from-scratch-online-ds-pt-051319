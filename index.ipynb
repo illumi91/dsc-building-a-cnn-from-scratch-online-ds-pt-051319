{
 "cells": [
  {
   "cell_type": "markdown",
   "metadata": {},
   "source": [
    "# Building a CNN from Scratch - Lab\n",
    "\n",
    "## Introduction\n",
    "\n",
    "Now that you have background knowledge regarding how CNNs work and how to implement them via Keras, its time to practice those skills a little more independently in order to build a CNN on your own to solve a image recognition problem. In this lab, you'll practice building an image classifier from start to finish using a CNN.  \n",
    "\n",
    "## Objectives\n",
    "\n",
    "You will be able to:\n",
    "* Transform images into tensors\n",
    "* Build a CNN model for image recognition"
   ]
  },
  {
   "cell_type": "markdown",
   "metadata": {},
   "source": [
    "## Loading the Images\n",
    "\n",
    "The data for this lab concerns classifying lung xray images for pneumonia. The original dataset is from kaggle. We have downsampled this dataset in order to reduce training time for you when you design and fit your model to the data. ⏰ It is anticipated that this process will take approximately 1 hour to run on a standard machine, although times will vary depending on your particular computer and set up. At the end of this lab, you are welcome to try training on the complete dataset and observe the impact on the model's overall accuracy. \n",
    "\n",
    "You can find the initial downsampled dataset in a subdirectory, **chest_xray**, of this repository."
   ]
  },
  {
   "cell_type": "code",
   "execution_count": 1,
   "metadata": {},
   "outputs": [
    {
     "name": "stderr",
     "output_type": "stream",
     "text": [
      "Using TensorFlow backend.\n"
     ]
    }
   ],
   "source": [
    "from keras.preprocessing.image import ImageDataGenerator\n",
    "import datetime\n",
    "\n",
    "original_start = datetime.datetime.now()\n",
    "start = datetime.datetime.now()"
   ]
  },
  {
   "cell_type": "code",
   "execution_count": 2,
   "metadata": {},
   "outputs": [
    {
     "name": "stdout",
     "output_type": "stream",
     "text": [
      " Volume in drive C is OS\n",
      " Volume Serial Number is D816-28B0\n",
      "\n",
      " Directory of C:\\Users\\luigi\\FlatironSchool\\Module06\\Section_47\\dsc-building-a-cnn-from-scratch-online-ds-pt-051319\n",
      "\n",
      "20/01/2020  16:32    <DIR>          .\n",
      "20/01/2020  16:32    <DIR>          ..\n",
      "20/01/2020  16:23                69 .gitignore\n",
      "20/01/2020  16:32    <DIR>          .ipynb_checkpoints\n",
      "20/01/2020  16:23                96 .learn\n",
      "20/01/2020  16:23        27,665,728 chest_xray_all_data.h5\n",
      "20/01/2020  16:23        27,665,728 chest_xray_all_with_augmentation_data.h5\n",
      "20/01/2020  16:23    <DIR>          chest_xray_downsampled\n",
      "20/01/2020  16:23        27,665,728 chest_xray_downsampled_data.h5\n",
      "20/01/2020  16:23        27,665,728 chest_xray_downsampled_with_augmentation_data.h5\n",
      "20/01/2020  16:23             1,849 CONTRIBUTING.md\n",
      "20/01/2020  16:32             9,070 index.ipynb\n",
      "20/01/2020  16:23    <DIR>          index_files\n",
      "20/01/2020  16:23             1,371 LICENSE.md\n",
      "20/01/2020  16:23             4,681 README.md\n",
      "              10 File(s)    110,680,048 bytes\n",
      "               5 Dir(s)  40,029,495,296 bytes free\n"
     ]
    }
   ],
   "source": [
    "ls"
   ]
  },
  {
   "cell_type": "markdown",
   "metadata": {},
   "source": [
    "## Designing the Model\n",
    "\n",
    "Now it's time to design your CNN! Remember a few things when doing this: \n",
    "* You should alternate convolutional and pooling layers\n",
    "* You should have later layers have a larger number of parameters in order to detect more abstract patterns\n",
    "* Add some final dense layers to add a classifier to the convolutional base"
   ]
  },
  {
   "cell_type": "code",
   "execution_count": 3,
   "metadata": {},
   "outputs": [
    {
     "name": "stdout",
     "output_type": "stream",
     "text": [
      "Found 1738 images belonging to 2 classes.\n",
      "Found 4 images belonging to 2 classes.\n"
     ]
    }
   ],
   "source": [
    "train_dir = 'chest_xray_downsampled/train'\n",
    "validation_dir = 'chest_xray_downsampled/val/'\n",
    "test_dir = 'chest_xray_downsampled/test/'\n",
    "\n",
    "# All images will be rescaled by 1./255\n",
    "train_datagen = ImageDataGenerator(rescale=1./255)\n",
    "test_datagen = ImageDataGenerator(rescale=1./255)\n",
    "\n",
    "train_generator = train_datagen.flow_from_directory(\n",
    "        # This is the target directory\n",
    "        train_dir,\n",
    "        # All images will be resized to 150x150\n",
    "        target_size=(150, 150),\n",
    "        batch_size=20,\n",
    "        # Since we use binary_crossentropy loss, we need binary labels\n",
    "        class_mode='binary')\n",
    "\n",
    "validation_generator = test_datagen.flow_from_directory(\n",
    "        validation_dir,\n",
    "        target_size=(150, 150),\n",
    "        batch_size=20,\n",
    "        class_mode='binary')"
   ]
  },
  {
   "cell_type": "markdown",
   "metadata": {},
   "source": [
    "## Training and Evaluating the Model\n",
    "\n",
    "Remember that training deep networks is resource intensive: depending on the size of the data, even a CNN with 3-4 successive convolutional and pooling layers is apt to take a hours to train on a high end laptop. Using 30 epochs and 8 layers (alternating between convolutional and pooling), our model took about 40 minutes to run on a year old macbook pro.\n",
    "\n",
    "\n",
    "If you are concerned with runtime, you may want to set your model to run the training epochs overnight.  \n",
    "\n",
    "**If you are going to run this process overnight, be sure to also script code for the following questions concerning data augmentation. Check your code twice (or more) and then set the notebook to run all, or something equivalent to have them train overnight.**"
   ]
  },
  {
   "cell_type": "code",
   "execution_count": 4,
   "metadata": {},
   "outputs": [],
   "source": [
    "from keras import layers\n",
    "from keras import models\n",
    "\n",
    "model = models.Sequential()\n",
    "model.add(layers.Conv2D(32, (3, 3), activation='relu',\n",
    "                        input_shape=(150, 150, 3)))\n",
    "model.add(layers.MaxPooling2D((2, 2)))\n",
    "model.add(layers.Conv2D(64, (3, 3), activation='relu'))\n",
    "model.add(layers.MaxPooling2D((2, 2)))\n",
    "model.add(layers.Conv2D(128, (3, 3), activation='relu'))\n",
    "model.add(layers.MaxPooling2D((2, 2)))\n",
    "model.add(layers.Conv2D(128, (3, 3), activation='relu'))\n",
    "model.add(layers.MaxPooling2D((2, 2)))\n",
    "model.add(layers.Flatten())\n",
    "model.add(layers.Dense(512, activation='relu'))\n",
    "model.add(layers.Dense(1, activation='sigmoid'))\n",
    "\n",
    "from keras import optimizers\n",
    "\n",
    "model.compile(loss='binary_crossentropy',\n",
    "              optimizer=optimizers.RMSprop(lr=1e-4),\n",
    "              metrics=['acc'])"
   ]
  },
  {
   "cell_type": "code",
   "execution_count": 5,
   "metadata": {},
   "outputs": [
    {
     "name": "stdout",
     "output_type": "stream",
     "text": [
      "Epoch 1/30\n",
      "100/100 [==============================] - 57s 570ms/step - loss: 0.5128 - acc: 0.7589 - val_loss: 1.0069 - val_acc: 0.7500\n",
      "Epoch 2/30\n",
      "100/100 [==============================] - 52s 515ms/step - loss: 0.2847 - acc: 0.8830 - val_loss: 1.3261 - val_acc: 0.7500\n",
      "Epoch 3/30\n",
      "100/100 [==============================] - 53s 528ms/step - loss: 0.1925 - acc: 0.9249 - val_loss: 1.7350 - val_acc: 0.5000\n",
      "Epoch 4/30\n",
      "100/100 [==============================] - 57s 569ms/step - loss: 0.1463 - acc: 0.9388 - val_loss: 1.1781 - val_acc: 0.7500\n",
      "Epoch 5/30\n",
      "100/100 [==============================] - 53s 526ms/step - loss: 0.1215 - acc: 0.9510 - val_loss: 1.6845 - val_acc: 0.5000\n",
      "Epoch 6/30\n",
      "100/100 [==============================] - 52s 522ms/step - loss: 0.1121 - acc: 0.9504 - val_loss: 1.1591 - val_acc: 0.7500\n",
      "Epoch 7/30\n",
      "100/100 [==============================] - 56s 557ms/step - loss: 0.1030 - acc: 0.9555 - val_loss: 1.8187 - val_acc: 0.5000\n",
      "Epoch 8/30\n",
      "100/100 [==============================] - 52s 520ms/step - loss: 0.0935 - acc: 0.9664 - val_loss: 1.6341 - val_acc: 0.5000\n",
      "Epoch 9/30\n",
      "100/100 [==============================] - 54s 536ms/step - loss: 0.0726 - acc: 0.9690 - val_loss: 1.2896 - val_acc: 0.5000\n",
      "Epoch 10/30\n",
      "100/100 [==============================] - 54s 540ms/step - loss: 0.0702 - acc: 0.9705 - val_loss: 1.3156 - val_acc: 0.5000\n",
      "Epoch 11/30\n",
      "100/100 [==============================] - 52s 520ms/step - loss: 0.0605 - acc: 0.9745 - val_loss: 0.6758 - val_acc: 0.7500\n",
      "Epoch 12/30\n",
      "100/100 [==============================] - 52s 519ms/step - loss: 0.0575 - acc: 0.9784 - val_loss: 1.4053 - val_acc: 0.7500\n",
      "Epoch 13/30\n",
      "100/100 [==============================] - 52s 524ms/step - loss: 0.0524 - acc: 0.9829 - val_loss: 1.4536 - val_acc: 0.7500\n",
      "Epoch 14/30\n",
      "100/100 [==============================] - 52s 521ms/step - loss: 0.0418 - acc: 0.9850 - val_loss: 1.0113 - val_acc: 0.7500\n",
      "Epoch 15/30\n",
      "100/100 [==============================] - 52s 519ms/step - loss: 0.0412 - acc: 0.9834 - val_loss: 1.2878 - val_acc: 0.7500\n",
      "Epoch 16/30\n",
      "100/100 [==============================] - 52s 517ms/step - loss: 0.0354 - acc: 0.9880 - val_loss: 1.3957 - val_acc: 0.7500\n",
      "Epoch 17/30\n",
      "100/100 [==============================] - 52s 519ms/step - loss: 0.0264 - acc: 0.9909 - val_loss: 1.7642 - val_acc: 0.7500\n",
      "Epoch 18/30\n",
      "100/100 [==============================] - 51s 509ms/step - loss: 0.0267 - acc: 0.9920 - val_loss: 1.5689 - val_acc: 0.7500\n",
      "Epoch 19/30\n",
      "100/100 [==============================] - 55s 549ms/step - loss: 0.0251 - acc: 0.9910 - val_loss: 1.4241 - val_acc: 0.7500\n",
      "Epoch 20/30\n",
      "100/100 [==============================] - 54s 545ms/step - loss: 0.0193 - acc: 0.9940 - val_loss: 3.5080 - val_acc: 0.5000\n",
      "Epoch 21/30\n",
      "100/100 [==============================] - 53s 529ms/step - loss: 0.0183 - acc: 0.9909 - val_loss: 2.5970 - val_acc: 0.5000\n",
      "Epoch 22/30\n",
      "100/100 [==============================] - 52s 524ms/step - loss: 0.0131 - acc: 0.9965 - val_loss: 2.1181 - val_acc: 0.7500\n",
      "Epoch 23/30\n",
      "100/100 [==============================] - 52s 523ms/step - loss: 0.0163 - acc: 0.9930 - val_loss: 1.8642 - val_acc: 0.7500\n",
      "Epoch 24/30\n",
      "100/100 [==============================] - 51s 508ms/step - loss: 0.0119 - acc: 0.9965 - val_loss: 2.0406 - val_acc: 0.7500\n",
      "Epoch 25/30\n",
      "100/100 [==============================] - 51s 512ms/step - loss: 0.0063 - acc: 0.9990 - val_loss: 2.5436 - val_acc: 0.5000\n",
      "Epoch 26/30\n",
      "100/100 [==============================] - 51s 514ms/step - loss: 0.0095 - acc: 0.9975 - val_loss: 1.3916 - val_acc: 0.7500\n",
      "Epoch 27/30\n",
      "100/100 [==============================] - 50s 504ms/step - loss: 0.0084 - acc: 0.9970 - val_loss: 2.4242 - val_acc: 0.7500\n",
      "Epoch 28/30\n",
      "100/100 [==============================] - 52s 516ms/step - loss: 0.0082 - acc: 0.9985 - val_loss: 2.8293 - val_acc: 0.7500\n",
      "Epoch 29/30\n",
      "100/100 [==============================] - 51s 508ms/step - loss: 0.0041 - acc: 0.9990 - val_loss: 2.8697 - val_acc: 0.7500\n",
      "Epoch 30/30\n",
      "100/100 [==============================] - 53s 531ms/step - loss: 0.0068 - acc: 0.9980 - val_loss: 2.5884 - val_acc: 0.7500\n"
     ]
    }
   ],
   "source": [
    "history = model.fit_generator(\n",
    "      train_generator,\n",
    "      steps_per_epoch=100,\n",
    "      epochs=30,\n",
    "      validation_data=validation_generator,\n",
    "      validation_steps=50)"
   ]
  },
  {
   "cell_type": "code",
   "execution_count": 6,
   "metadata": {},
   "outputs": [
    {
     "data": {
      "image/png": "[encoded data removed]",
      "text/plain": [
       "<Figure size 432x288 with 1 Axes>"
      ]
     },
     "metadata": {
      "needs_background": "light"
     },
     "output_type": "display_data"
    },
    {
     "data": {
      "image/png": "[encoded data removed]",
      "text/plain": [
       "<Figure size 432x288 with 1 Axes>"
      ]
     },
     "metadata": {
      "needs_background": "light"
     },
     "output_type": "display_data"
    }
   ],
   "source": [
    "import matplotlib.pyplot as plt\n",
    "%matplotlib inline \n",
    "\n",
    "acc = history.history['acc']\n",
    "val_acc = history.history['val_acc']\n",
    "loss = history.history['loss']\n",
    "val_loss = history.history['val_loss']\n",
    "epochs = range(len(acc))\n",
    "plt.plot(epochs, acc, 'bo', label='Training acc')\n",
    "plt.plot(epochs, val_acc, 'b', label='Validation acc')\n",
    "plt.title('Training and validation accuracy')\n",
    "plt.legend()\n",
    "plt.figure()\n",
    "plt.plot(epochs, loss, 'bo', label='Training loss')\n",
    "plt.plot(epochs, val_loss, 'b', label='Validation loss')\n",
    "plt.title('Training and validation loss')\n",
    "plt.legend()\n",
    "plt.show()"
   ]
  },
  {
   "cell_type": "code",
   "execution_count": 7,
   "metadata": {},
   "outputs": [
    {
     "name": "stdout",
     "output_type": "stream",
     "text": [
      "Training took a total of 0:28:43.035337\n"
     ]
    }
   ],
   "source": [
    "end = datetime.datetime.now()\n",
    "elapsed = end - start\n",
    "print('Training took a total of {}'.format(elapsed))"
   ]
  },
  {
   "cell_type": "markdown",
   "metadata": {},
   "source": [
    "## Save the Model"
   ]
  },
  {
   "cell_type": "code",
   "execution_count": 8,
   "metadata": {},
   "outputs": [],
   "source": [
    "model.save('chest_xray_downsampled_data.h5')"
   ]
  },
  {
   "cell_type": "markdown",
   "metadata": {},
   "source": [
    "## Final Evaluation\n",
    "\n",
    "Now use the test set to perform a final evaluation on your model of choice."
   ]
  },
  {
   "cell_type": "code",
   "execution_count": 9,
   "metadata": {},
   "outputs": [
    {
     "name": "stdout",
     "output_type": "stream",
     "text": [
      "Found 208 images belonging to 2 classes.\n",
      "test acc: 0.7909663908120965\n"
     ]
    }
   ],
   "source": [
    "test_generator = test_datagen.flow_from_directory(\n",
    "        test_dir,\n",
    "        target_size=(150, 150),\n",
    "        batch_size=20,\n",
    "        class_mode='binary')\n",
    "test_loss, test_acc = model.evaluate_generator(test_generator, steps=50)\n",
    "print('test acc:', test_acc)"
   ]
  },
  {
   "cell_type": "markdown",
   "metadata": {},
   "source": [
    "## Summary\n",
    "\n",
    "Well done! In this lab, you practice building your own CNN for image recognition which drastically outperformed our previous attempts using a standard deep learning model alone. In the upcoming sections, we'll continue to investigate further techniques associated with CNNs including visualizing the representations they learn and techniques to further bolster their performance when we have limited training data such as here."
   ]
  }
 ],
 "metadata": {
  "kernelspec": {
   "display_name": "Python 3",
   "language": "python",
   "name": "python3"
  },
  "language_info": {
   "codemirror_mode": {
    "name": "ipython",
    "version": 3
   },
   "file_extension": ".py",
   "mimetype": "text/x-python",
   "name": "python",
   "nbconvert_exporter": "python",
   "pygments_lexer": "ipython3",
   "version": "3.6.6"
  },
  "toc": {
   "base_numbering": 1,
   "nav_menu": {},
   "number_sections": true,
   "sideBar": true,
   "skip_h1_title": false,
   "title_cell": "Table of Contents",
   "title_sidebar": "Contents",
   "toc_cell": false,
   "toc_position": {},
   "toc_section_display": true,
   "toc_window_display": false
  }
 },
 "nbformat": 4,
 "nbformat_minor": 2
}
